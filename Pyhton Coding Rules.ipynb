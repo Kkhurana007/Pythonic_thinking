{
 "cells": [
  {
   "cell_type": "code",
   "execution_count": null,
   "id": "6c234b6d",
   "metadata": {},
   "outputs": [],
   "source": [
    "Python coding rules\n",
    "Naming\n",
    "functions, variables, and attributes - 'lowercase_underscore' format\n",
    "protected instance attributes- _leading_underscore\n",
    "private instance attributes- _double_leading_underscore\n",
    "Classes - CapitalizedWord\n",
    "Module-level constants - ALL_CAPS\n",
    "instance methods in classes - self\n",
    "Class method - cls\n",
    "Remarks\n",
    "✦ bytes contains sequences of 8-bit values, and str contains sequences of Unicode code points.\n",
    "\n",
    "✦ Use helper functions to ensure that the inputs you operate on are the type of character sequence that you expect (8-bit values, UTF-8-encoded strings, Unicode code points, etc).\n",
    "\n",
    "✦ bytes and str instances can’t be used together with operators (like >, ==, +, and %).\n",
    "\n",
    "✦ If you want to read or write binary data to/from a file, always open the file using a binary mode (like 'rb' or 'wb').\n",
    "\n",
    "✦ If you want to read or write Unicode data to/from a file, be careful about your system’s default text encoding. Explicitly pass the encoding parameter to open if you want to avoid surprises.\n",
    "\n",
    "✦ str.format method should be avoided\n",
    "\n",
    "✦ F-strings should be used for formatting\n",
    "\n",
    "Difference between bytes and str\n",
    "a = b'h\\x65llo'\n",
    "print(list(a))\n",
    "print(a)\n",
    "[104, 101, 108, 108, 111]\n",
    "b'hello'\n",
    "a = 'a\\u0300 propos'\n",
    "print(list(a))\n",
    "print(a)\n",
    "['a', '̀', ' ', 'p', 'r', 'o', 'p', 'o', 's']\n",
    "à propos\n",
    "Adding bytes to bytes and str to str\n",
    "print(b'one' + b'two')\n",
    "print('one' + 'two')\n",
    "b'onetwo'\n",
    "onetwo\n",
    "Writing a binnary data in the file\n",
    "gives a traceback\n",
    "Readability\n",
    "pantry= [\n",
    "    ('avocadoes', 1.25),\n",
    "    ('bananas', 2.5),\n",
    "    ('cherries', 15),    \n",
    "]\n",
    "for i, (item, count) in enumerate(pantry):\n",
    "    print('#%d: %-10s = %d' % (\n",
    "         i+1,\n",
    "         item.title(),\n",
    "         round(count)))\n",
    "#1: Avocadoes  = 1\n",
    "#2: Bananas    = 2\n",
    "#3: Cherries   = 15\n",
    "template = '%s loves to cook. %s loves to eat too.'\n",
    "name = 'kunal khurana'\n",
    "formatted = template % (name.title(), name.title())\n",
    "print(formatted)\n",
    "Kunal Khurana loves to cook. Kunal Khurana loves to eat too."
   ]
  },
  {
   "cell_type": "markdown",
   "id": "4752f127",
   "metadata": {},
   "source": [
    "# Python coding rules"
   ]
  },
  {
   "cell_type": "markdown",
   "id": "7773bb6c",
   "metadata": {},
   "source": [
    "### C-style formatting strings in Python (4 errors)\n",
    "- 4 errors (reversing order gives traceback)\n",
    "- difficult to read the code \n",
    "- using same value multiple times in tuple (repeat it in the right side)\n",
    "- dictionary formats"
   ]
  },
  {
   "cell_type": "markdown",
   "id": "24964c92",
   "metadata": {},
   "source": [
    "### Write helper functions instead of complex expressions"
   ]
  },
  {
   "cell_type": "markdown",
   "id": "faf9d024",
   "metadata": {},
   "source": [
    "- Use if/else conditional to reduce visual noise\n",
    "- Moreover, if/else expression provides a more readable alternative over the boolean or/and in expressions."
   ]
  },
  {
   "cell_type": "markdown",
   "id": "604a3931",
   "metadata": {},
   "source": [
    "### Prefer Unpacking Over Indexing"
   ]
  },
  {
   "cell_type": "markdown",
   "id": "df95a025",
   "metadata": {},
   "source": [
    "- use special syntax to unpack multiple values and keys in a single statement."
   ]
  },
  {
   "cell_type": "markdown",
   "id": "993a97f5",
   "metadata": {},
   "source": [
    "### Prefer enumerate Over range"
   ]
  },
  {
   "cell_type": "markdown",
   "id": "dbc7c384",
   "metadata": {},
   "source": [
    "- range (built-in funciton) is useful for loops\n",
    "- prefer enumerate instead of looping over a range "
   ]
  },
  {
   "cell_type": "code",
   "execution_count": 11,
   "id": "63e26d32",
   "metadata": {},
   "outputs": [
    {
     "name": "stdout",
     "output_type": "stream",
     "text": [
      "vanilla is delicious\n",
      "chocolate is delicious\n",
      "pecan is delicious\n",
      "strawberry is delicious\n"
     ]
    }
   ],
   "source": [
    "# example of enumeration with list- \n",
    "flavor_list = ['vanilla', 'chocolate', 'pecan', 'strawberry']\n",
    "for flavor in flavor_list:\n",
    "    print(f'{flavor} is delicious')"
   ]
  },
  {
   "cell_type": "markdown",
   "id": "e836a60f",
   "metadata": {},
   "source": [
    "### Use zip to process Iterators in parallel"
   ]
  },
  {
   "cell_type": "code",
   "execution_count": 12,
   "id": "f405b0e7",
   "metadata": {},
   "outputs": [
    {
     "name": "stdout",
     "output_type": "stream",
     "text": [
      "[5, 5, 7]\n"
     ]
    }
   ],
   "source": [
    "names = ['Kunal', 'Xives', 'pricila']\n",
    "counts = [len(n) for n in names]\n",
    "print(counts)"
   ]
  },
  {
   "cell_type": "code",
   "execution_count": 13,
   "id": "9e0d6fc3",
   "metadata": {},
   "outputs": [
    {
     "name": "stdout",
     "output_type": "stream",
     "text": [
      "pricila\n"
     ]
    }
   ],
   "source": [
    "# iterating over lenght of lists\n",
    "longest_name = None\n",
    "max_count = 0\n",
    "\n",
    "for i in range(len(names)):\n",
    "    count = counts[i]\n",
    "    if count > max_count:\n",
    "        longest_name = names[i]\n",
    "        max_count = count\n",
    "        \n",
    "print(longest_name)"
   ]
  },
  {
   "cell_type": "code",
   "execution_count": 14,
   "id": "938eaaf6",
   "metadata": {},
   "outputs": [
    {
     "name": "stdout",
     "output_type": "stream",
     "text": [
      "pricila\n"
     ]
    }
   ],
   "source": [
    "# we see that the above code is a bit noisy. \n",
    "# to imporve it, we'll use the enumerate method\n",
    "\n",
    "for i, name in enumerate(names):\n",
    "    count = counts[i]\n",
    "    if count > max_count:\n",
    "        longest_name = name\n",
    "        max_count = count\n",
    "print(longest_name)"
   ]
  },
  {
   "cell_type": "code",
   "execution_count": 15,
   "id": "d6a830d6",
   "metadata": {},
   "outputs": [
    {
     "name": "stdout",
     "output_type": "stream",
     "text": [
      "pricila\n"
     ]
    }
   ],
   "source": [
    "# to improve it further, we'll use the inbuilt zip function\n",
    "\n",
    "for name, count in zip(names, counts):\n",
    "    if count > max_count:\n",
    "        longest_name = name\n",
    "        max_count = count\n",
    "\n",
    "print(longest_name)"
   ]
  },
  {
   "cell_type": "code",
   "execution_count": 16,
   "id": "72829f9d",
   "metadata": {},
   "outputs": [
    {
     "name": "stdout",
     "output_type": "stream",
     "text": [
      "Kunal\n",
      "Xives\n",
      "pricila\n"
     ]
    }
   ],
   "source": [
    "# zip's behavior is different if counts are not updated\n",
    "\n",
    "names.append('Rosy')\n",
    "for name, count in zip(names, counts):\n",
    "    print(name)"
   ]
  },
  {
   "cell_type": "code",
   "execution_count": 17,
   "id": "884d17ae",
   "metadata": {},
   "outputs": [
    {
     "name": "stdout",
     "output_type": "stream",
     "text": [
      "Kunal: 5\n",
      "Xives: 5\n",
      "pricila: 7\n",
      "Rosy: None\n"
     ]
    }
   ],
   "source": [
    "# so, be careful when using iterators of different lenght. \n",
    "\n",
    "# consider using zip_longest function from itertools instead\n",
    "\n",
    "import itertools\n",
    "for name, count in itertools.zip_longest (names, counts):\n",
    "    print (f'{name}: {count}')\n"
   ]
  },
  {
   "cell_type": "markdown",
   "id": "14ac77b7",
   "metadata": {},
   "source": [
    "### Avoid 'else' Blocks After 'for' and 'while' Loops"
   ]
  },
  {
   "cell_type": "code",
   "execution_count": 18,
   "id": "461860e0",
   "metadata": {},
   "outputs": [
    {
     "name": "stdout",
     "output_type": "stream",
     "text": [
      "Loop 0\n",
      "Loop 1\n",
      "Loop 2\n",
      "Else block!\n"
     ]
    }
   ],
   "source": [
    "# for loops first\n",
    "\n",
    "for i in range(3):\n",
    "    print('Loop', i)\n",
    "else:\n",
    "    print('Else block!')"
   ]
  },
  {
   "cell_type": "code",
   "execution_count": 19,
   "id": "17328675",
   "metadata": {},
   "outputs": [
    {
     "name": "stdout",
     "output_type": "stream",
     "text": [
      "Loop 0\n",
      "Loop 1\n"
     ]
    }
   ],
   "source": [
    "# using break in the code\n",
    "\n",
    "for i in range(3):\n",
    "    print('Loop', i)\n",
    "    if i == 1:\n",
    "        break\n",
    "        \n",
    "else:\n",
    "    print('Else block!')"
   ]
  },
  {
   "cell_type": "code",
   "execution_count": 20,
   "id": "6feb573c",
   "metadata": {},
   "outputs": [
    {
     "name": "stdout",
     "output_type": "stream",
     "text": [
      "For else block!\n"
     ]
    }
   ],
   "source": [
    "# else runs immediately if looped over an empty sequence\n",
    "\n",
    "for x in []:\n",
    "    print('Never runs')\n",
    "else:\n",
    "    print('For else block!')"
   ]
  },
  {
   "cell_type": "code",
   "execution_count": 21,
   "id": "46aa17fc",
   "metadata": {},
   "outputs": [
    {
     "name": "stdout",
     "output_type": "stream",
     "text": [
      "While else block!\n"
     ]
    }
   ],
   "source": [
    "# else also runs when while loops are initially false\n",
    "while False:\n",
    "    print('Never runs')\n",
    "else:\n",
    "    print('While else block!')"
   ]
  },
  {
   "cell_type": "code",
   "execution_count": 22,
   "id": "a8234741",
   "metadata": {},
   "outputs": [
    {
     "name": "stdout",
     "output_type": "stream",
     "text": [
      "Testing 2\n",
      "Testing 3\n",
      "Testing 4\n",
      "Testing 5\n",
      "Testing 6\n",
      "Testing 7\n",
      "Testing 8\n",
      "Testing 9\n",
      "coprime\n"
     ]
    }
   ],
   "source": [
    "## finding coprimes (having common divisor i.e. 1)\n",
    "\n",
    "a = 11\n",
    "b = 9\n",
    "\n",
    "for i in range(2, min(a, b) + 1):\n",
    "    print ('Testing', i)\n",
    "    if a% i == 0 and b%i == 0:\n",
    "        print('Not coprime')\n",
    "        break\n",
    "else:\n",
    "    print('coprime')\n"
   ]
  },
  {
   "cell_type": "markdown",
   "id": "4a42dac3",
   "metadata": {},
   "source": [
    "### Prevent repetition with assignment Expressions such as 'warlus operator'"
   ]
  },
  {
   "cell_type": "code",
   "execution_count": 23,
   "id": "58beebb2",
   "metadata": {},
   "outputs": [
    {
     "name": "stdout",
     "output_type": "stream",
     "text": [
      "[0, 2, 4, 6, 8]\n"
     ]
    }
   ],
   "source": [
    "# Without the walrus operator\n",
    "even_numbers_without_walrus = []\n",
    "count = 0\n",
    "while count < 5:\n",
    "    number = count * 2\n",
    "    if number % 2 == 0:\n",
    "        even_numbers_without_walrus.append(number)\n",
    "        count += 1\n",
    "\n",
    "print(even_numbers_without_walrus)\n"
   ]
  },
  {
   "cell_type": "code",
   "execution_count": 24,
   "id": "d39d208f",
   "metadata": {},
   "outputs": [
    {
     "name": "stdout",
     "output_type": "stream",
     "text": [
      "[0, 2, 4, 6, 8]\n"
     ]
    }
   ],
   "source": [
    "# With the walrus operator\n",
    "even_numbers_with_walrus = []\n",
    "count = 0\n",
    "while count < 5:\n",
    "    if (number := count * 2) % 2 == 0:\n",
    "        even_numbers_with_walrus.append(number)\n",
    "        count += 1\n",
    "\n",
    "print(even_numbers_with_walrus)"
   ]
  },
  {
   "cell_type": "markdown",
   "id": "6664c7ae",
   "metadata": {},
   "source": [
    "# Lists and dictionaries"
   ]
  },
  {
   "cell_type": "markdown",
   "id": "adc5d68a",
   "metadata": {},
   "source": [
    "### Know how to slice sequneces"
   ]
  },
  {
   "cell_type": "code",
   "execution_count": 2,
   "id": "c77fc940",
   "metadata": {},
   "outputs": [
    {
     "name": "stdout",
     "output_type": "stream",
     "text": [
      "Middle two:  ['c', 'd']\n"
     ]
    }
   ],
   "source": [
    "#somelist [start:end]\n",
    "a = ['a', 'b', 'c', 'd', 'e', 'f']\n",
    "print ('Middle two: ', a[2:4])"
   ]
  },
  {
   "cell_type": "markdown",
   "id": "682f921e",
   "metadata": {},
   "source": [
    "### Avoid striding and slicing in a single expression"
   ]
  },
  {
   "cell_type": "code",
   "execution_count": 3,
   "id": "378dc1c4",
   "metadata": {},
   "outputs": [
    {
     "name": "stdout",
     "output_type": "stream",
     "text": [
      "[1, 3, 5]\n",
      "[2, 4, 6]\n"
     ]
    }
   ],
   "source": [
    "b = [1, 2, 3, 4, 5, 6]\n",
    "odds = b[::2]\n",
    "evens = b[1::2]\n",
    "print(odds)\n",
    "print(evens)"
   ]
  },
  {
   "cell_type": "code",
   "execution_count": 5,
   "id": "0ac1acec",
   "metadata": {},
   "outputs": [
    {
     "name": "stdout",
     "output_type": "stream",
     "text": [
      "b'eguor'\n"
     ]
    }
   ],
   "source": [
    "# stride syntax that can introduce bugs ; Avoid\n",
    "c = b'rouge'\n",
    "d = c[::-1]\n",
    "\n",
    "print(d)"
   ]
  },
  {
   "cell_type": "code",
   "execution_count": 9,
   "id": "f9eb16cd",
   "metadata": {},
   "outputs": [
    {
     "name": "stdout",
     "output_type": "stream",
     "text": [
      "['c', 'e', 'g']\n",
      "['g', 'e', 'c', 'a']\n",
      "['g', 'e']\n",
      "[]\n"
     ]
    }
   ],
   "source": [
    "x = ['a', 'b', 'c', 'd', 'e', 'f', 'g', 'h']\n",
    "print(x[2::2])     # ['c', 'e', 'g']\n",
    "print(x[-2::-2])   # ['g', 'e', 'c', 'a']\n",
    "print(x[-2:2:-2])  # ['g', 'e']  #[start: stop : step]\n",
    "print(x[2:2:-2])   # []"
   ]
  },
  {
   "cell_type": "markdown",
   "id": "8283190f",
   "metadata": {},
   "source": [
    "### Perfect Catch-'All Unpacking Over Slicing'"
   ]
  },
  {
   "cell_type": "markdown",
   "id": "1056d8c7",
   "metadata": {},
   "source": [
    "- Unpacking -  extracting individual elements from a sequence (like a list or tuple) and assigning them to variables. \n",
    "- Slicing - selecting a subset of elements from a sequence."
   ]
  },
  {
   "cell_type": "code",
   "execution_count": 10,
   "id": "237649e0",
   "metadata": {},
   "outputs": [
    {
     "name": "stdout",
     "output_type": "stream",
     "text": [
      "Subset: [3, 4, 5, 6, 7, 8]\n",
      "First element: 3\n",
      "Middle elements: [4, 5, 6, 7]\n",
      "Last element: 8\n"
     ]
    }
   ],
   "source": [
    "# Example sequence\n",
    "numbers = [1, 2, 3, 4, 5, 6, 7, 8, 9, 10]\n",
    "\n",
    "# Using slicing to get a portion of the sequence\n",
    "subset = numbers[2:8]\n",
    "\n",
    "# Using unpacking to assign values to variables\n",
    "first, *middle, last = subset   # *used for extended unpacking\n",
    "\n",
    "# Print the results\n",
    "print(\"Subset:\", subset)\n",
    "print(\"First element:\", first)\n",
    "print(\"Middle elements:\", middle)\n",
    "print(\"Last element:\", last)\n"
   ]
  },
  {
   "cell_type": "markdown",
   "id": "fe1d4e65",
   "metadata": {},
   "source": [
    "### Sort by Complex Criteria using the 'key' parameter"
   ]
  },
  {
   "cell_type": "markdown",
   "id": "c6312aa3",
   "metadata": {},
   "source": [
    "- sort method works for all built-in types (strings, floats, etc.), but it doesn't work for the classes, including a __repr__ method for instance. "
   ]
  },
  {
   "cell_type": "code",
   "execution_count": 4,
   "id": "b6d6f1ba",
   "metadata": {},
   "outputs": [
    {
     "name": "stdout",
     "output_type": "stream",
     "text": [
      "Unsorted:\n",
      "Tool(level, 3.5)\n",
      "Tool(hammer, 1.25)\n",
      "Tool(screwdriver, 0.5)\n",
      "Tool(chisel, 0.25)\n",
      "\n",
      "Sorted:\n",
      "Tool(chisel, 0.25)\n",
      "Tool(hammer, 1.25)\n",
      "Tool(level, 3.5)\n",
      "Tool(screwdriver, 0.5)\n"
     ]
    }
   ],
   "source": [
    "class Tool:\n",
    "    def __init__(self, name, weight):\n",
    "        self.name = name\n",
    "        self.weight = weight\n",
    "\n",
    "    def __repr__(self):\n",
    "        return f'Tool({self.name}, {self.weight})'\n",
    "\n",
    "# Example usage of the Tool class\n",
    "tools = [\n",
    "    Tool('level', 3.5),\n",
    "    Tool('hammer', 1.25),\n",
    "    Tool('screwdriver', 0.5),\n",
    "    Tool('chisel', 0.25),\n",
    "]\n",
    "\n",
    "# tools.sort()   #this will give us a traceback\n",
    " \n",
    "# Display the unsorted list of tools\n",
    "print('Unsorted:')\n",
    "for tool in tools:\n",
    "    print(repr(tool))\n",
    "\n",
    "# Sort the tools based on their names\n",
    "tools.sort(key=lambda x: x.name)\n",
    "\n",
    "# Display the sorted list of tools\n",
    "print('\\nSorted:')\n",
    "for tool in tools:\n",
    "    print(tool)\n"
   ]
  },
  {
   "cell_type": "markdown",
   "id": "a0d78b11",
   "metadata": {},
   "source": [
    "### Dictionaries : insertion ordering, dict types, dict values"
   ]
  },
  {
   "cell_type": "code",
   "execution_count": 13,
   "id": "725c14b3",
   "metadata": {},
   "outputs": [
    {
     "name": "stdout",
     "output_type": "stream",
     "text": [
      "{'otter': 1, 'fox': 2, 'polar bear': 3}\n",
      "otter\n"
     ]
    }
   ],
   "source": [
    "# cutest baby animal\n",
    "\n",
    "votes = {\n",
    "    'otter': 1281,\n",
    "    'polar bear': 587,\n",
    "    'fox': 863,\n",
    "}\n",
    "\n",
    "# save the rank to an empty dictionary\n",
    "def populate_ranks(votes, ranks):  #takes votes and ranks dictionary\n",
    "    names = list(votes.keys())\n",
    "    names.sort(key=votes.get, reverse=True)\n",
    "    for i, name in enumerate(names, 1):\n",
    "        ranks[name] = i\n",
    "    \n",
    "# function that returs the animal with hightest rank\n",
    "def get_winner(ranks):\n",
    "    return next(iter(ranks))\n",
    "\n",
    "# results\n",
    "ranks = {}\n",
    "populate_ranks(votes, ranks)\n",
    "print(ranks)\n",
    "winner = get_winner(ranks)\n",
    "print(winner)\n"
   ]
  },
  {
   "cell_type": "markdown",
   "id": "730c90b7",
   "metadata": {},
   "source": [
    "### Prefer 'get' Over 'in' and 'KeyError' to handle missing dictionary keys"
   ]
  },
  {
   "cell_type": "markdown",
   "id": "54c6a16c",
   "metadata": {},
   "source": [
    "- accessing and assigning \n",
    "- for maintaining dictionaries, consider Counter class from the collections built-in module\n",
    "- setdefault is another shortened method other than get method, but readability is not clear. so, avoid it"
   ]
  },
  {
   "cell_type": "markdown",
   "id": "31837af0",
   "metadata": {},
   "source": [
    "#### example 1"
   ]
  },
  {
   "cell_type": "code",
   "execution_count": 31,
   "id": "a1257673",
   "metadata": {},
   "outputs": [],
   "source": [
    "bread = {\n",
    "    '14grain': 4,\n",
    "    'multigrain' : 2\n",
    "}\n",
    "\n",
    "#1) 'in' method\n",
    "key = 'wheat'\n",
    "\n",
    "if key in bread:\n",
    "    count = bread[key]\n",
    "else:\n",
    "    count = 0\n",
    "\n",
    "bread[key] = count + 1  #incrementing the count by 1 for 'wheat' key"
   ]
  },
  {
   "cell_type": "markdown",
   "id": "c00210e4",
   "metadata": {},
   "source": [
    "#2) 'KeyError' method\n",
    "key = 'wheat'\n",
    "\n",
    "try:\n",
    "    count = bread[key]\n",
    "except KeyError:\n",
    "    count = 0\n",
    "\n",
    "    \n",
    "bread[key] = count + 1"
   ]
  },
  {
   "cell_type": "code",
   "execution_count": 35,
   "id": "03e75a12",
   "metadata": {},
   "outputs": [],
   "source": [
    "#3) 'get' method - best one (shortest and clearest)\n",
    "\n",
    "key = 'oats'\n",
    "\n",
    "count = bread.get(key,0)\n",
    "bread[key] = count + 1"
   ]
  },
  {
   "cell_type": "code",
   "execution_count": 23,
   "id": "9c4d0304",
   "metadata": {},
   "outputs": [
    {
     "data": {
      "text/plain": [
       "{'14grain': 4, 'multigrain': 2, 'wheat': 2, 'oats': 1}"
      ]
     },
     "execution_count": 23,
     "metadata": {},
     "output_type": "execute_result"
    }
   ],
   "source": [
    "bread"
   ]
  },
  {
   "cell_type": "markdown",
   "id": "3db07f1c",
   "metadata": {},
   "source": [
    "#### example 2"
   ]
  },
  {
   "cell_type": "code",
   "execution_count": 32,
   "id": "e9b252cf",
   "metadata": {},
   "outputs": [
    {
     "name": "stdout",
     "output_type": "stream",
     "text": [
      "{'14grain': ['Bob', 'Ashley', 'Suzan', 'Susan'], 'multigrain': ['Dikshita', 'Kavya'], 'wheat': ['Bhavna', 'Shristi'], 'oats': ['Nikumbh'], 'kinoa': ['Raph']}\n"
     ]
    }
   ],
   "source": [
    "# more complex dictionary, to know who voted for which type of bread\n",
    "\n",
    "votes = {\n",
    "    '14grain' : ['Bob', 'Ashley', 'Suzan', 'Susan'],\n",
    "    'multigrain' : ['Dikshita', 'Kavya'],\n",
    "    'wheat' : ['Bhavna', 'Shristi'],\n",
    "    'oats' : ['Nikumbh']\n",
    "}\n",
    "\n",
    "key = 'kinoa' \n",
    "who = 'Raph'\n",
    "\n",
    "if key in votes: \n",
    "    names = votes[key]\n",
    "else:\n",
    "    votes[key] = names = []\n",
    "    \n",
    "names.append(who)\n",
    "print (votes)"
   ]
  },
  {
   "cell_type": "code",
   "execution_count": 34,
   "id": "f146d784",
   "metadata": {},
   "outputs": [
    {
     "name": "stdout",
     "output_type": "stream",
     "text": [
      "{'14grain': ['Bob', 'Ashley', 'Suzan', 'Susan'], 'multigrain': ['Dikshita', 'Kavya'], 'wheat': ['Bhavna', 'Shristi'], 'oats': ['Nikumbh'], 'kinoa': ['Raph', 'Raph', 'Raph']}\n"
     ]
    }
   ],
   "source": [
    "# try except\n",
    "\n",
    "try:\n",
    "    names = votes[key]\n",
    "except KeyError:\n",
    "    votes[key] = names =[]\n",
    "\n",
    "names.append(who)\n",
    "print(votes)"
   ]
  },
  {
   "cell_type": "code",
   "execution_count": 39,
   "id": "c7c35cc2",
   "metadata": {},
   "outputs": [
    {
     "name": "stdout",
     "output_type": "stream",
     "text": [
      "{'14grain': ['Bob', 'Ashley', 'Suzan', 'Susan'], 'multigrain': ['Dikshita', 'Kavya'], 'wheat': ['Bhavna', 'Shristi'], 'oats': ['Nikumbh', 'Raph', 'Raph', 'Raph', 'Raph'], 'kinoa': ['Raph', 'Raph', 'Raph']}\n"
     ]
    }
   ],
   "source": [
    "# get method\n",
    "names = votes.get(key)\n",
    "if names is None:\n",
    "    votes[key] = names = []\n",
    "    \n",
    "names.append(who)\n",
    "\n",
    "print(votes)"
   ]
  },
  {
   "cell_type": "code",
   "execution_count": 41,
   "id": "667c9413",
   "metadata": {},
   "outputs": [
    {
     "name": "stdout",
     "output_type": "stream",
     "text": [
      "{'14grain': ['Bob', 'Ashley', 'Suzan', 'Susan'], 'multigrain': ['Dikshita', 'Kavya'], 'wheat': ['Bhavna', 'Shristi'], 'oats': ['Nikumbh', 'Raph', 'Raph', 'Raph', 'Raph', 'Raph', 'Raph'], 'kinoa': ['Raph', 'Raph', 'Raph']}\n"
     ]
    }
   ],
   "source": [
    "# prevent repetition\n",
    "if (names := votes.get(key)) is None:\n",
    "    votes[key] = names = []\n",
    "names.append(who)\n",
    "\n",
    "print(votes)"
   ]
  },
  {
   "cell_type": "code",
   "execution_count": 43,
   "id": "5ce51a29",
   "metadata": {},
   "outputs": [
    {
     "name": "stdout",
     "output_type": "stream",
     "text": [
      "{'14grain': ['Bob', 'Ashley', 'Suzan', 'Susan'], 'multigrain': ['Dikshita', 'Kavya'], 'wheat': ['Bhavna', 'Shristi'], 'oats': ['Nikumbh', 'Raph', 'Raph', 'Raph', 'Raph', 'Raph', 'Raph', 'Raph', 'Raph'], 'kinoa': ['Raph', 'Raph', 'Raph']}\n"
     ]
    }
   ],
   "source": [
    "# setdefault\n",
    "\n",
    "names = votes.setdefault(key, [])\n",
    "names.append(who)\n",
    "\n",
    "print(votes)"
   ]
  },
  {
   "cell_type": "code",
   "execution_count": 46,
   "id": "dcf6a5f3",
   "metadata": {},
   "outputs": [
    {
     "name": "stdout",
     "output_type": "stream",
     "text": [
      "{'14grain': ['Bob', 'Ashley', 'Suzan', 'Susan'], 'multigrain': ['Dikshita', 'Kavya'], 'wheat': ['Bhavna', 'Shristi'], 'oats': ['Nikumbh', 'Raph', 'Raph', 'Raph', 'Raph', 'Raph', 'Raph', 'Raph', 'Raph', 'Raph', 'Raph', 'Raph'], 'kinoa': ['Raph', 'Raph', 'Raph']}\n"
     ]
    }
   ],
   "source": [
    "\n",
    "    \n",
    "names.append(who)\n",
    "\n",
    "print(votes)"
   ]
  },
  {
   "cell_type": "markdown",
   "id": "4c41b872",
   "metadata": {},
   "source": [
    "### Prefer 'defaultdict' Over 'Setdefault' to handle missing items"
   ]
  },
  {
   "cell_type": "markdown",
   "id": "419ea923",
   "metadata": {},
   "source": [
    "<div style=\"background-color: #FFFF00; padding: 10px; border: 1px solid #00232;\">\n",
    "    <h2>Prefer 'defaultdict' Over 'Setdefault' to handle missing items</h2>\n",
    "</div>"
   ]
  },
  {
   "cell_type": "code",
   "execution_count": 47,
   "id": "e27b8291",
   "metadata": {},
   "outputs": [
    {
     "name": "stdout",
     "output_type": "stream",
     "text": [
      "{'India': {'Rajastan', 'Haryana', 'Punjab', 'Himachal Pardesh', 'Goa'}, 'UAE': {'Dubai'}, 'Nepal': {'Kathmandu'}, 'Canada': {'Ontario', 'Québec'}, 'France': {'Remi'}, 'Japan': {'Kyoto'}}\n"
     ]
    }
   ],
   "source": [
    "# list of countires and cities visited\n",
    "visits = {\n",
    "    'India' : {'Punjab', 'Rajastan', 'Goa', 'Himachal Pardesh', 'Haryana'},\n",
    "    'UAE' : {'Dubai'},\n",
    "    'Nepal' : {'Kathmandu'},\n",
    "    'Canada' : {'Québec', 'Ontario'},\n",
    "}\n",
    "\n",
    "\n",
    "# using setdefalut method to add to the list (method 1)\n",
    "\n",
    "visits.setdefault('France', set()).add('Remi')  #short\n",
    "\n",
    "if (japan := visits.get('Japan')) is None:      #long\n",
    "    visits['Japan'] = japan = set()\n",
    "japan.add('Kyoto')\n",
    "\n",
    "print(visits)"
   ]
  },
  {
   "cell_type": "code",
   "execution_count": 50,
   "id": "ce9ca8c0",
   "metadata": {},
   "outputs": [
    {
     "name": "stdout",
     "output_type": "stream",
     "text": [
      "defaultdict(<class 'set'>, {'England': {'Bath', 'London'}})\n"
     ]
    }
   ],
   "source": [
    "# how about i create a class then add places\n",
    "\n",
    "from collections import defaultdict\n",
    "\n",
    "class Visits:\n",
    "    def __init__(self):\n",
    "       self.data = defaultdict(set)\n",
    "\n",
    "    def add(self, country, city):\n",
    "       self.data[country].add(city)\n",
    "\n",
    "visits = Visits()\n",
    "visits.add('England', 'Bath')\n",
    "visits.add('England', 'London')\n",
    "print(visits.data)\n"
   ]
  },
  {
   "cell_type": "markdown",
   "id": "85de4234",
   "metadata": {},
   "source": [
    "<div style=\"background-color: #ADD8E6; padding: 10px; border: 1px solid #000000;\">\n",
    "    <h2>Constructing Key-Dependent Default Values with '__missing__'</h2>\n",
    "</div>\n"
   ]
  },
  {
   "cell_type": "markdown",
   "id": "672bc1b3",
   "metadata": {},
   "source": [
    "# Functions"
   ]
  },
  {
   "cell_type": "markdown",
   "id": "fcd646e0",
   "metadata": {},
   "source": [
    "### Never Unpack more than 3 variables when fucntions return multiple vaues"
   ]
  },
  {
   "cell_type": "markdown",
   "id": "ccb85aeb",
   "metadata": {},
   "source": [
    "### Prefer raising exceptions to returning None"
   ]
  },
  {
   "cell_type": "markdown",
   "id": "6a0f1574",
   "metadata": {},
   "source": [
    "### Know how Closures Interact with Variable Scope"
   ]
  },
  {
   "cell_type": "markdown",
   "id": "b684aeba",
   "metadata": {},
   "source": [
    "### Reduce Visual Noise with Variable Positional Arguments"
   ]
  },
  {
   "cell_type": "markdown",
   "id": "5590a3d2",
   "metadata": {},
   "source": [
    "### Provide Optional Behavior with Keyword Arguments"
   ]
  },
  {
   "cell_type": "markdown",
   "id": "2c2d9255",
   "metadata": {},
   "source": [
    "### Use None and Docstrings to Specify Dynamic Default Arguments"
   ]
  },
  {
   "cell_type": "markdown",
   "id": "f229b1bd",
   "metadata": {},
   "source": [
    "### Enforce clarity with Keyword-Only and Positional-Only Arguments"
   ]
  },
  {
   "cell_type": "markdown",
   "id": "7342177e",
   "metadata": {},
   "source": [
    "### Define Function Decorators with funtools.wraps"
   ]
  }
 ],
 "metadata": {
  "kernelspec": {
   "display_name": "Python 3 (ipykernel)",
   "language": "python",
   "name": "python3"
  },
  "language_info": {
   "codemirror_mode": {
    "name": "ipython",
    "version": 3
   },
   "file_extension": ".py",
   "mimetype": "text/x-python",
   "name": "python",
   "nbconvert_exporter": "python",
   "pygments_lexer": "ipython3",
   "version": "3.11.5"
  }
 },
 "nbformat": 4,
 "nbformat_minor": 5
}
